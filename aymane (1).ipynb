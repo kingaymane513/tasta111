{
 "cells": [
  {
   "cell_type": "markdown",
   "id": "11514ee9-79d7-4091-8842-7939e77dc92b",
   "metadata": {},
   "source": [
    "<h1>My Jupyter Notebook on IBM Watson Studio.<h1>"
   ]
  },
  {
   "cell_type": "markdown",
   "id": "4aab1fba-069e-4523-b2aa-565fc7346f92",
   "metadata": {},
   "source": [
    "<b>Aymane SAAD</b>\n",
    "\n",
    "STUDENT"
   ]
  },
  {
   "cell_type": "markdown",
   "id": "bd6fd7fc-a577-49ce-9368-21264de17619",
   "metadata": {},
   "source": [
    "<i>I am interested in data science because i enjoy learning new things."
   ]
  },
  {
   "cell_type": "markdown",
   "id": "89860208-fc08-41f8-8e74-69d27c014c61",
   "metadata": {},
   "source": [
    "<h3>a function that adds two random numbers."
   ]
  },
  {
   "cell_type": "code",
   "execution_count": 10,
   "id": "d8c0048e-d5cc-41e8-8dd2-219fdd68c292",
   "metadata": {},
   "outputs": [
    {
     "data": {
      "text/plain": [
       "6"
      ]
     },
     "execution_count": 10,
     "metadata": {},
     "output_type": "execute_result"
    }
   ],
   "source": [
    "(1+5)"
   ]
  },
  {
   "cell_type": "markdown",
   "id": "d2022f15-a3ee-4766-8cdc-28183624b7a9",
   "metadata": {},
   "source": [
    "<li>one \n",
    "</li>\n",
    "<li>two \n",
    "</li>\n",
    "<li>tree \n",
    "</li>\n",
    "<li>four \n",
    "</li>\n",
    "<li>five \n",
    "</li>\n",
    "<li>six \n",
    "</li>"
   ]
  },
  {
   "cell_type": "markdown",
   "id": "40df4334-a8be-449f-af79-2f527fec915d",
   "metadata": {},
   "source": [
    "<table>\n",
    "  <tr>\n",
    "    <th>First name</th>\n",
    "    <th>Last name</th>\n",
    "  </tr>\n",
    "  <tr>\n",
    "    <td>John</td>\n",
    "    <td>gone</td>\n",
    "  </tr>\n",
    "  <tr>\n",
    "    <td>Jane</td>\n",
    "    <td>Doe</td>\n",
    "  </tr>\n",
    "</table>"
   ]
  },
  {
   "cell_type": "markdown",
   "id": "39d40d38-4bec-41e6-809d-56c63cb8ec94",
   "metadata": {},
   "source": [
    "<p>\n",
    "  I'm creating a link to\n",
    "  <a\n",
    "    href=\"https://www.ibm.com\"\n",
    "    title=\"The best place to learn new skills\">the IBM homepage</a>.\n",
    "</p>"
   ]
  },
  {
   "cell_type": "code",
   "execution_count": null,
   "id": "95b4676c-ffee-40df-af02-71f1ca9886d8",
   "metadata": {},
   "outputs": [],
   "source": []
  }
 ],
 "metadata": {
  "kernelspec": {
   "display_name": "Python",
   "language": "python",
   "name": "conda-env-python-py"
  },
  "language_info": {
   "codemirror_mode": {
    "name": "ipython",
    "version": 3
   },
   "file_extension": ".py",
   "mimetype": "text/x-python",
   "name": "python",
   "nbconvert_exporter": "python",
   "pygments_lexer": "ipython3",
   "version": "3.7.12"
  }
 },
 "nbformat": 4,
 "nbformat_minor": 5
}
